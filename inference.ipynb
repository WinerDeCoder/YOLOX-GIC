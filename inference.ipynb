{
 "cells": [
  {
   "cell_type": "code",
   "execution_count": 1,
   "metadata": {},
   "outputs": [
    {
     "name": "stdout",
     "output_type": "stream",
     "text": [
      "Traceback (most recent call last):\n",
      "  File \"/home/phucnguyen/code/github_clone/YOLO/YOLOX/tools/demo.py\", line 14, in <module>\n",
      "    from yolox.data.data_augment import ValTransform\n",
      "ModuleNotFoundError: No module named 'yolox'\n"
     ]
    }
   ],
   "source": [
    "!python tools/demo.py image -n yolox-s -c \"yolox_s.pth\" --path \"assets/CCCD_smaller.jpg\" --conf 0.25 --nms 0.45 --tsize 640 --save_result --device 0"
   ]
  },
  {
   "cell_type": "code",
   "execution_count": null,
   "metadata": {},
   "outputs": [],
   "source": [
    "!python tools/demo.py image -n yolox-s -c \"yolox_s.pth\" --path \"assets/CCCD_smaller.jpg\" --conf 0.25 --nms 0.45 --tsize 640 --save_result --device gpu"
   ]
  },
  {
   "cell_type": "code",
   "execution_count": 4,
   "metadata": {},
   "outputs": [
    {
     "name": "stdout",
     "output_type": "stream",
     "text": [
      "Detected bounding boxes: [[41.745964, 155.98743, 184.9526, 366.26123, 0.9435067]]\n",
      "Image size: (780, 507)\n"
     ]
    }
   ],
   "source": [
    "from tools.backend_call import *\n",
    "\n",
    "result, img_size = main(\"tools/assets/CCCD_smaller.jpg\")\n",
    "print(\"Detected bounding boxes:\", result)\n",
    "print(\"Image size:\", img_size)"
   ]
  },
  {
   "cell_type": "code",
   "execution_count": null,
   "metadata": {},
   "outputs": [],
   "source": []
  },
  {
   "cell_type": "code",
   "execution_count": null,
   "metadata": {},
   "outputs": [],
   "source": []
  }
 ],
 "metadata": {
  "kernelspec": {
   "display_name": "py310",
   "language": "python",
   "name": "python3"
  },
  "language_info": {
   "codemirror_mode": {
    "name": "ipython",
    "version": 3
   },
   "file_extension": ".py",
   "mimetype": "text/x-python",
   "name": "python",
   "nbconvert_exporter": "python",
   "pygments_lexer": "ipython3",
   "version": "3.10.16"
  }
 },
 "nbformat": 4,
 "nbformat_minor": 2
}
